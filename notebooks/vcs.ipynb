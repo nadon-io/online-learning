{
 "cells": [
  {
   "cell_type": "markdown",
   "metadata": {},
   "source": [
    "# Version Control\n",
    "author: [Philippe Nadon](https://www.nadon.io/)\n",
    "\n",
    "We will now go through:\n",
    "1. Github vs Git\n",
    "2. Resources\n",
    "3. Project\n"
   ]
  },
  {
   "cell_type": "markdown",
   "metadata": {},
   "source": [
    "## Github vs Git\n",
    "\n",
    "There is a big difference between Github, and Git. Git is the VCS (Version Control System) software which *powers* Github. Github is simply an online service for hosting code. This is analogous to an apartment which offers rooms for rent which you can put your stuff in, yet I do not believe your nearest apartment building is synonymous with the concept itself of \"an apartment building\"."
   ]
  },
  {
   "cell_type": "markdown",
   "metadata": {},
   "source": [
    "## Resources\n",
    "\n",
    "Since git is far too large of a concept to be summarized in a short page, and there have been hundreds of guides written on the subject, instead of writing my own guide I will instead provide links to recommended resources:\n",
    "\n",
    "- [step-by-step guide](https://opensource.com/article/18/1/step-step-guide-git)\n",
    "- [the Git Book](https://git-scm.com/book/en/v2)"
   ]
  },
  {
   "cell_type": "markdown",
   "metadata": {},
   "source": [
    "## Project\n",
    "\n",
    "For this tutorial, we will be playing around with an example project. To do so you will need a [GitHub account](https://github.com/), as well as [GitHub Desktop](https://desktop.github.com/). While there are more powerful tools available for Git, GitHub Desktop is simple and easy to use.\n",
    "\n",
    "### Create a Respository"
   ]
  },
  {
   "cell_type": "markdown",
   "metadata": {},
   "source": [
    "### Clone the Repository to your local machine"
   ]
  },
  {
   "cell_type": "markdown",
   "metadata": {},
   "source": [
    "### Commit and push a README"
   ]
  },
  {
   "cell_type": "markdown",
   "metadata": {},
   "source": [
    "### Work on a new branch"
   ]
  },
  {
   "cell_type": "markdown",
   "metadata": {},
   "source": [
    "### Merge the new branch's changes to your master branch"
   ]
  },
  {
   "cell_type": "markdown",
   "metadata": {},
   "source": [
    "### Bonus: Collaboration"
   ]
  }
 ],
 "metadata": {
  "kernelspec": {
   "display_name": "Python 3.7.7 64-bit",
   "language": "python",
   "name": "python37764bitcd0f491b799641a19fc822da2f9cec96"
  },
  "language_info": {
   "codemirror_mode": {
    "name": "ipython",
    "version": 3
   },
   "file_extension": ".py",
   "mimetype": "text/x-python",
   "name": "python",
   "nbconvert_exporter": "python",
   "pygments_lexer": "ipython3",
   "version": "3.7.7"
  }
 },
 "nbformat": 4,
 "nbformat_minor": 2
}
