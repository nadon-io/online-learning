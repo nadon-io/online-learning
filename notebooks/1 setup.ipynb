{
 "cells": [
  {
   "cell_type": "markdown",
   "metadata": {},
   "source": [
    "# Setup Guide\n",
    "author: [Philippe Nadon](https://www.nadon.io/)\n",
    "\n",
    "Content covered:\n",
    "\n",
    "1. Installing MiniConda + packages\n",
    "2. Installing VSCode + plugins\n",
    "4. 3 ways to use Python + examples"
   ]
  },
  {
   "cell_type": "markdown",
   "metadata": {},
   "source": [
    "## Installing MiniConda\n",
    "\n",
    "You can find MiniConda [here](https://docs.conda.io/en/latest/miniconda.html). Download the installer and then follow the instructions.\n",
    "\n",
    "You can also find a guide to getting started with MiniConda [here](https://docs.conda.io/projects/conda/en/latest/user-guide/getting-started.html).\n",
    "\n",
    "There is a list of packages [here](https://anaconda.org/anaconda/repo). The important ones to install are the following (installed using `conda install -c conda-forge <package-name>`):\n",
    "\n",
    "- jupyterlab - Jupyterlab + Jupyter Notebooks\n",
    "- numpy\n",
    "- scipy\n",
    "- pandas\n",
    "- seaborn\n",
    "- matplotlib"
   ]
  },
  {
   "cell_type": "markdown",
   "metadata": {},
   "source": [
    "## Installing Visual Studio Code\n",
    "\n",
    "You can find Visual Studio Code [here](https://code.visualstudio.com/). Download the installer and then follow the instructions.\n",
    "\n",
    "The recommended plugins to install are as follows:\n",
    "\n",
    "- [Live Share: collaboration similar to Google Docs](https://marketplace.visualstudio.com/items?itemName=MS-vsliveshare.vsliveshare)\n",
    "- [Markdown All in One](https://marketplace.visualstudio.com/items?itemName=yzhang.markdown-all-in-one)\n",
    "- [Python](https://marketplace.visualstudio.com/items?itemName=ms-python.python)\n",
    "- [IntelliCode](https://marketplace.visualstudio.com/items?itemName=VisualStudioExptTeam.vscodeintellicode)"
   ]
  },
  {
   "cell_type": "markdown",
   "metadata": {},
   "source": [
    "## 3 ways to use Python\n",
    "\n",
    "There are 3 main ways to use Python:\n",
    "\n",
    "1. Interactively in a terminal (good for simple one-line interactions)\n",
    "2. Interactively writing code within a Jupyter Notebook (best for single-file projects which benefit from easy editing and visualization)\n",
    "3. Writing `*.py` files using a text editor such as VsCode and then running them (best for complex / structured projects)\n",
    "\n",
    "### Interactive terminal session\n",
    "\n",
    "You should be able to call an interactive Python REPL (Read-Evaluate-Print-Loop) shell by simply entering `Python` (or `Python3` if not on Windows)\n",
    "\n",
    "This allows you to enter Python code line-by-line and is great for quickly computing short one-line commands. Anything more complex quickly becomes inefficient to do in the interactive shell.\n",
    "\n",
    "For example, type the following:"
   ]
  },
  {
   "cell_type": "code",
   "execution_count": 2,
   "metadata": {},
   "outputs": [
    {
     "data": {
      "text/plain": [
       "'string concatenation: 14, 20.085536923187668'"
      ]
     },
     "execution_count": 2,
     "metadata": {},
     "output_type": "execute_result"
    }
   ],
   "source": [
    "import math\n",
    "x = 5 + 3 ** 2\n",
    "y = math.exp(3)\n",
    "z = \"string concatenation: \" + str(x) + \", \" + str(y)\n",
    "z"
   ]
  },
  {
   "cell_type": "markdown",
   "metadata": {},
   "source": [
    "See [the `math` module's documentation](https://docs.python.org/2/library/math.html) for more information."
   ]
  },
  {
   "cell_type": "markdown",
   "metadata": {},
   "source": [
    "### Jupyter Notebook\n",
    "\n",
    "This will be the main method in which you write code. Jupyter Notebooks have (almost) all the advantages of the interactive terminal session, along with extra features such as Markdown / Latex support and inline visuals such as graphs.\n",
    "\n",
    "You can launch a new session by entering `jupyter notebook` in your shell. If you would like to try the next-generation Jupyter Lab software (which offers the same Jupyter Notebooks experience along with added beenfits), enter `jupyter lab`.\n",
    "\n",
    "In the top-right you should see an option to create a new notebook. If you have more programming languages installed (such as Julia or R) you will see options for them as well as Python.\n",
    "\n",
    "We will be going into more detail on how to use Jupyter Notebooks in the next learning module."
   ]
  },
  {
   "cell_type": "markdown",
   "metadata": {},
   "source": [
    "### `*.py` files using a text editor\n",
    "\n",
    "This option offers the best \"scalability\". For example, writing a library or other complex piece of software would be incredibly difficult in a Jupyter Notebook or in the shell due to the lack of features such as linting, refactoring, and auto-complete.\n",
    "\n",
    "Although Python code *can* be imported from a Jupyter Notebook, it is not at all recommended (and is more of a hack than a typical practice).\n",
    "\n",
    "To get started, open the folder which will hold your `*.py` files using a text editor, and then create a new `*.py` file. Try typing something like the following:"
   ]
  },
  {
   "cell_type": "code",
   "execution_count": null,
   "metadata": {},
   "outputs": [],
   "source": [
    "import math\n",
    "\n",
    "def my_computation(num):\n",
    "    return math.exp(abs(num)) * 2 + math.sin(0.2)"
   ]
  },
  {
   "cell_type": "markdown",
   "metadata": {},
   "source": [
    "Assuming your text editor supports autocomplete features similar to VSCode's, as soon as you type `math.` you should see suggestions appear based on the contents of the `math` module. Once you type `math.name_of_func(` it should auto-complete the second paranthesis, as well as provide information on the function (such as its return type).\n",
    "\n",
    "This file can then be run from the terminal (VSCode has a built-in terminal accessible by pressing `\\` and \\`) by entering `python <name of file>.py`.\n",
    "\n",
    "**FYI:** VSCode offers many, many features for writing code, such as auto-formatting your code, changing indentation from tabs to spaces, etc.. All of these features can be seen by bringing up the command palette by pressing `ctrl` + `shift` + `p` on your keyboard (replace `ctrl` with `command` for MacOS). These available commands can then be filtered by entering text into the field, I suggest entering \"Jupyter Notebook\" into the command palette and seeing what you get!"
   ]
  },
  {
   "cell_type": "code",
   "execution_count": null,
   "metadata": {},
   "outputs": [],
   "source": []
  }
 ],
 "metadata": {
  "kernelspec": {
   "display_name": "Python 3.7.7 64-bit",
   "language": "python",
   "name": "python37764bitcd0f491b799641a19fc822da2f9cec96"
  },
  "language_info": {
   "codemirror_mode": {
    "name": "ipython",
    "version": 3
   },
   "file_extension": ".py",
   "mimetype": "text/x-python",
   "name": "python",
   "nbconvert_exporter": "python",
   "pygments_lexer": "ipython3",
   "version": "3.7.7"
  }
 },
 "nbformat": 4,
 "nbformat_minor": 2
}
